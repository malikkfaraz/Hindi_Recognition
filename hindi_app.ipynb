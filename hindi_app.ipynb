{
 "cells": [
  {
   "cell_type": "code",
   "execution_count": 80,
   "metadata": {},
   "outputs": [],
   "source": [
    "#application\n",
    "import cv2\n",
    "from keras.models import load_model\n",
    "import numpy as np\n",
    "from collections import deque #queue"
   ]
  },
  {
   "cell_type": "code",
   "execution_count": 81,
   "metadata": {},
   "outputs": [
    {
     "name": "stdout",
     "output_type": "stream",
     "text": [
      "<keras.engine.sequential.Sequential object at 0x000000FC0D7609C8>\n"
     ]
    }
   ],
   "source": [
    "model1 = load_model('devanagri.h5')\n",
    "print(model1)\n",
    "                    "
   ]
  },
  {
   "cell_type": "code",
   "execution_count": 82,
   "metadata": {},
   "outputs": [],
   "source": [
    "\n",
    "letter_count = {0:'CHECK', 1:'01_ka', 2:'02_kha', 3:'03_ga', 4:'04_gha', 5:'05_kna', 6:'06_cha', 7:'07_chha',\n",
    "               8:'08_ja', 9:'09_jha', 10:'10_yna', 11:'11_taamatar', 12:'12_thaa', 13:'13_daa', 14:'14_dhaa',\n",
    "               15:'15_adna', 16:'16_tabala', 17:'17_tha', 18:'18_da', 19:'19_dha', 20:'20_na', 21:'21_pa', 22:'22_pha',\n",
    "               23:'23_ba', 24:'24_bha', 25:'25_ma', 26:'26_yaw', 27:'27_ra', 28:'28_la', 29:'29_waw', 30:'30_motosaw', \n",
    "               31:'31_petchiryakha', 32:'32_patalosaw', 33:'33_ha', 34:'34_chhya', 35:'35_tra', 36:'36_gya', 37:'digit_0', \n",
    "               38:'digit_1', 39:'digit_2', 40:'digit_3', 41:'digit_4', 42:'digit_5', 43:'digit_6', 44:'digit_7',\n",
    "               45:'digit_8', 46:'digit_9',47:'CHECK'}  #EXTRA 2 FOR PADDING\n"
   ]
  },
  {
   "cell_type": "code",
   "execution_count": 100,
   "metadata": {},
   "outputs": [],
   "source": [
    "def keras_predict(model,image):\n",
    "    processed = keras_process_image(img)\n",
    "    print('processed :' + str(processed.shape))\n",
    "    pred_prob = model.predict(processed)[0]\n",
    "    pred_class = list(pred_prob.index(max(pred_prob)))\n",
    "    return max(pred_prob), pred_class\n",
    "    \n",
    "    \n",
    "def keras_process_image(img):\n",
    "    image_x = 32\n",
    "    image_y = 32\n",
    "    img = cv2.resize(img, (image_x, image_y))\n",
    "    img = np.array(img, dtype=np.float32)\n",
    "    img = np.reshape(img,(-1, image_x, image_y, 1))\n",
    "    return img\n"
   ]
  },
  {
   "cell_type": "code",
   "execution_count": 106,
   "metadata": {},
   "outputs": [
    {
     "ename": "error",
     "evalue": "OpenCV(3.4.2) c:\\miniconda3\\conda-bld\\opencv-suite_1534379934306\\work\\modules\\imgproc\\src\\color.hpp:253: error: (-215:Assertion failed) VScn::contains(scn) && VDcn::contains(dcn) && VDepth::contains(depth) in function 'cv::CvtHelper<struct cv::Set<3,4,-1>,struct cv::Set<3,-1,-1>,struct cv::Set<0,5,-1>,2>::CvtHelper'\n",
     "output_type": "error",
     "traceback": [
      "\u001b[1;31m---------------------------------------------------------------------------\u001b[0m",
      "\u001b[1;31merror\u001b[0m                                     Traceback (most recent call last)",
      "\u001b[1;32m<ipython-input-106-aa69ba2fcf0a>\u001b[0m in \u001b[0;36m<module>\u001b[1;34m\u001b[0m\n\u001b[0;32m     10\u001b[0m     \u001b[0mret\u001b[0m\u001b[1;33m,\u001b[0m \u001b[0mimg\u001b[0m \u001b[1;33m=\u001b[0m \u001b[0mcap\u001b[0m\u001b[1;33m.\u001b[0m\u001b[0mread\u001b[0m\u001b[1;33m(\u001b[0m\u001b[1;33m)\u001b[0m\u001b[1;33m\u001b[0m\u001b[1;33m\u001b[0m\u001b[0m\n\u001b[0;32m     11\u001b[0m     \u001b[0mimg\u001b[0m \u001b[1;33m=\u001b[0m \u001b[0mcv2\u001b[0m\u001b[1;33m.\u001b[0m\u001b[0mflip\u001b[0m\u001b[1;33m(\u001b[0m\u001b[0mimg\u001b[0m\u001b[1;33m,\u001b[0m \u001b[1;36m1\u001b[0m\u001b[1;33m)\u001b[0m                                       \u001b[1;31m#flip the image for processing\u001b[0m\u001b[1;33m\u001b[0m\u001b[1;33m\u001b[0m\u001b[0m\n\u001b[1;32m---> 12\u001b[1;33m     \u001b[0mimgHSV\u001b[0m \u001b[1;33m=\u001b[0m \u001b[0mcv2\u001b[0m\u001b[1;33m.\u001b[0m\u001b[0mcvtColor\u001b[0m\u001b[1;33m(\u001b[0m\u001b[0mimg\u001b[0m\u001b[1;33m,\u001b[0m \u001b[0mcv2\u001b[0m\u001b[1;33m.\u001b[0m\u001b[0mCOLOR_BGR2HSV\u001b[0m\u001b[1;33m)\u001b[0m                \u001b[1;31m#converting in hsv format\u001b[0m\u001b[1;33m\u001b[0m\u001b[1;33m\u001b[0m\u001b[0m\n\u001b[0m\u001b[0;32m     13\u001b[0m     \u001b[0mmask\u001b[0m \u001b[1;33m=\u001b[0m \u001b[0mcv2\u001b[0m\u001b[1;33m.\u001b[0m\u001b[0minRange\u001b[0m\u001b[1;33m(\u001b[0m\u001b[0mimgHSV\u001b[0m\u001b[1;33m,\u001b[0m \u001b[0mLower_blue\u001b[0m\u001b[1;33m,\u001b[0m \u001b[0mUpper_blue\u001b[0m\u001b[1;33m)\u001b[0m\u001b[1;33m\u001b[0m\u001b[1;33m\u001b[0m\u001b[0m\n\u001b[0;32m     14\u001b[0m     \u001b[0mblur\u001b[0m \u001b[1;33m=\u001b[0m \u001b[0mcv2\u001b[0m\u001b[1;33m.\u001b[0m\u001b[0mmedianBlur\u001b[0m\u001b[1;33m(\u001b[0m\u001b[0mmask\u001b[0m\u001b[1;33m,\u001b[0m \u001b[1;36m15\u001b[0m\u001b[1;33m)\u001b[0m\u001b[1;33m\u001b[0m\u001b[1;33m\u001b[0m\u001b[0m\n",
      "\u001b[1;31merror\u001b[0m: OpenCV(3.4.2) c:\\miniconda3\\conda-bld\\opencv-suite_1534379934306\\work\\modules\\imgproc\\src\\color.hpp:253: error: (-215:Assertion failed) VScn::contains(scn) && VDcn::contains(dcn) && VDepth::contains(depth) in function 'cv::CvtHelper<struct cv::Set<3,4,-1>,struct cv::Set<3,-1,-1>,struct cv::Set<0,5,-1>,2>::CvtHelper'\n"
     ]
    }
   ],
   "source": [
    "\n",
    "cap = cv2.VideoCapture(0)                                        #capturing video\n",
    "Lower_blue = np.array([110,50,50])                               #RGB color\n",
    "Upper_blue = np.array([130,255,255])  \n",
    "pred_class = 0\n",
    "pts = deque(maxlen=512)\n",
    "black_board = np.zeros((480,640,3), dtype = np.uint8 )\n",
    "digit = np.zeros((200,200,3), dtype = np.uint8)\n",
    "\n",
    "while (cap.isOpened()):\n",
    "    ret, img = cap.read()\n",
    "    img = cv2.flip(img, 1)                                       #flip the image for processing\n",
    "    imgHSV = cv2.cvtColor(img, cv2.COLOR_BGR2HSV)                #converting in hsv format\n",
    "    mask = cv2.inRange(imgHSV, Lower_blue, Upper_blue)            \n",
    "    blur = cv2.medianBlur(mask, 15)\n",
    "    blur = cv2.GaussianBlur(blur, (5,5), 0)                     #for bluring out edges\n",
    "    thresh = cv2.threshold(blur, 0, 255, cv2.THRESH_BINARY + cv2.THRESH_OTSU)[1]\n",
    "    cnts = cv2.findContours(thresh.copy(), cv2.RETR_TREE, cv2.CHAIN_APPROX_NONE)[1]\n",
    "    center = None\n",
    "    if len(cnts) >= 1:\n",
    "        contour = max(cnts, key = cv2.contourArea)\n",
    "        if cv2.contourArea(contour) > 250:\n",
    "            ((x,y), radius) = cv2.minEnclosingCircle(contour)\n",
    "            cv2.circle(img, (int(x),int(y)), int(radius), (0, 255, 255), 2)\n",
    "            cv2.circle(img, center, 5, (0, 0, 255), -1)\n",
    "            M = cv2.moments(contour)\n",
    "            center = (int(M['m10']/M['m00']), int(M['m01']/M['m00']))\n",
    "            pts.appendleft(center)\n",
    "            for i in range(1, len(pts)):\n",
    "                if pts[i - 1] is None or pts[i] is None:\n",
    "                    continue\n",
    "                cv2.line(blackboard, pts[i - 1], pts[i], (255,255,255), 10)\n",
    "                cv2.line(img, pts[i - 1], pts[i], (0,0,255), 5)\n",
    "                    \n",
    "          \n",
    "    elif len(cnts) == 0:\n",
    "        if len(pts) != []:\n",
    "            blackboard_gray = cv.cv2color(blackboard, cv2.COLOR_BGR2GRAY)\n",
    "            blur1 = cv2.medianBlur(blackboard_gray, 15)\n",
    "            blur1 = cv2.GaussianBlur(blur1, (5,5), 0)                     #for bluring out edges\n",
    "            thresh1 = cv2.threshold(blur1, 0, 255, cv2.THRESH_BINARY + cv2.THRESH_OTSU)[1]\n",
    "            blackboard_cnts = cv2.findContours(thresh1.copy(), cv2.RETR_TREE, cv2.CHAIN_APPROX_NONE)[1]\n",
    "            if len(blackboard_cnts) >= 1:\n",
    "                cnt = max(blackboard_cnts, key = cv2.contourArea)\n",
    "                print(cv2.contourArea(cnt))\n",
    "                if cv2.contourArea(cnt) > 2000:\n",
    "                    x, y, w, h = cv2.boundingRect(cnt)\n",
    "                    digit = blackboard_gray[y:y + h, x:x + w]\n",
    "                        \n",
    "                    pred_prob, pred_class = keras_predict(model1, digit)\n",
    "                    print(pred_class, pred_prob)\n",
    "                    \n",
    "        pts = deque(maxlen = 512)\n",
    "        blackboard = np.zeros((480, 640, 3), dtype = np.uint8)\n",
    "        \n",
    "    cv2.putText(img, \"Conv Network : \" + str(letter_count[pred_class]), (10, 470),\n",
    "                   cv2.FONT_HERSHEY_SIMPLEX, 0.7, (0, 0, 255), 2)\n",
    "    cv2.imshow('Frame', img)\n",
    "    cv2.imshow(\"Contours\", thresh)\n",
    "    k = cv2.waitKey(0)\n",
    "    if k ==27:\n",
    "        break\n"
   ]
  },
  {
   "cell_type": "code",
   "execution_count": null,
   "metadata": {},
   "outputs": [],
   "source": []
  },
  {
   "cell_type": "code",
   "execution_count": null,
   "metadata": {},
   "outputs": [],
   "source": []
  },
  {
   "cell_type": "code",
   "execution_count": null,
   "metadata": {},
   "outputs": [],
   "source": []
  },
  {
   "cell_type": "code",
   "execution_count": null,
   "metadata": {},
   "outputs": [],
   "source": []
  }
 ],
 "metadata": {
  "kernelspec": {
   "display_name": "Python 3",
   "language": "python",
   "name": "python3"
  },
  "language_info": {
   "codemirror_mode": {
    "name": "ipython",
    "version": 3
   },
   "file_extension": ".py",
   "mimetype": "text/x-python",
   "name": "python",
   "nbconvert_exporter": "python",
   "pygments_lexer": "ipython3",
   "version": "3.7.4"
  }
 },
 "nbformat": 4,
 "nbformat_minor": 2
}
