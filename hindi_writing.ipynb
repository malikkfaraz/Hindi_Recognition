{
 "cells": [
  {
   "cell_type": "code",
   "execution_count": null,
   "metadata": {},
   "outputs": [],
   "source": [
    "import numpy as np                           #complex matrix multiplication\n",
    "from keras import layers                     \n",
    "from keras.layers import Input, Dense, Activation, ZeroPadding2D, BatchNormalization, Flatten, Conv2D\n",
    "from keras.layers import AveragePooling2D, MaxPooling2D, Dropout, GlobalMaxPooling2D, GlobalAveragePooling2D\n",
    "from keras.utils import np_utils, print_summary\n",
    "import pandas as pd\n",
    "from keras.models import Sequential\n",
    "from keras.callbacks import ModelCheckpoint\n",
    "import keras.backend as K\n"
   ]
  },
  {
   "cell_type": "code",
   "execution_count": 94,
   "metadata": {},
   "outputs": [
    {
     "name": "stdout",
     "output_type": "stream",
     "text": [
      "[ 1  2  3  4  5  6  7  8  9 10 11 12 13 14 15 16 17 18 19 20 21 22 23 24\n",
      " 25 26 27 28 29 30 31 32 33 34 35 36 37 38 39 40 41 42 43 44 45 46]\n",
      "(92000, 1024)\n",
      "(92000, 1)\n",
      "[[26]\n",
      " [26]\n",
      " [38]\n",
      " ...\n",
      " [44]\n",
      " [29]\n",
      " [27]]\n"
     ]
    }
   ],
   "source": [
    "data = pd.read_csv('hindi.csv')\n",
    "data[\"character\"] = data[\"character\"].replace('character_01_ka',1)\n",
    "data[\"character\"] = data[\"character\"].replace('character_02_kha',2)\n",
    "data[\"character\"] = data[\"character\"].replace('character_03_ga',3)\n",
    "data[\"character\"] = data[\"character\"].replace('character_04_gha',4)\n",
    "data[\"character\"] = data[\"character\"].replace('character_05_kna',5)\n",
    "data[\"character\"] = data[\"character\"].replace('character_06_cha',6)\n",
    "data[\"character\"] = data[\"character\"].replace('character_07_chha',7)\n",
    "data[\"character\"] = data[\"character\"].replace('character_08_ja',8)\n",
    "data[\"character\"] = data[\"character\"].replace('character_09_jha',9)\n",
    "data[\"character\"] = data[\"character\"].replace('character_10_yna',10)\n",
    "data[\"character\"] = data[\"character\"].replace('character_11_taamatar',11)\n",
    "data[\"character\"] = data[\"character\"].replace('character_12_thaa',12)\n",
    "data[\"character\"] = data[\"character\"].replace('character_13_daa',13)\n",
    "data[\"character\"] = data[\"character\"].replace('character_14_dhaa',14)\n",
    "data[\"character\"] = data[\"character\"].replace('character_15_adna',15)\n",
    "data[\"character\"] = data[\"character\"].replace('character_16_tabala',16)\n",
    "data[\"character\"] = data[\"character\"].replace('character_17_tha',17)\n",
    "data[\"character\"] = data[\"character\"].replace('character_18_da',18)\n",
    "data[\"character\"] = data[\"character\"].replace('character_19_dha',19)\n",
    "data[\"character\"] = data[\"character\"].replace('character_20_na',20)\n",
    "data[\"character\"] = data[\"character\"].replace('character_21_pa',21)\n",
    "data[\"character\"] = data[\"character\"].replace('character_22_pha',22)\n",
    "data[\"character\"] = data[\"character\"].replace('character_23_ba',23)\n",
    "data[\"character\"] = data[\"character\"].replace('character_24_bha',24)\n",
    "data[\"character\"] = data[\"character\"].replace('character_25_ma',25)\n",
    "data[\"character\"] = data[\"character\"].replace('character_26_yaw',26)\n",
    "data[\"character\"] = data[\"character\"].replace('character_27_ra',27)\n",
    "data[\"character\"] = data[\"character\"].replace('character_28_la',28)\n",
    "data[\"character\"] = data[\"character\"].replace('character_29_waw',29)\n",
    "data[\"character\"] = data[\"character\"].replace('character_30_motosaw',30)\n",
    "data[\"character\"] = data[\"character\"].replace('character_31_petchiryakha',31)\n",
    "data[\"character\"] = data[\"character\"].replace('character_32_patalosaw',32)\n",
    "data[\"character\"] = data[\"character\"].replace('character_33_ha',33)\n",
    "data[\"character\"] = data[\"character\"].replace('character_34_chhya',34)\n",
    "data[\"character\"] = data[\"character\"].replace('character_35_tra',35)\n",
    "data[\"character\"] = data[\"character\"].replace('character_36_gya',36)\n",
    "data[\"character\"] = data[\"character\"].replace('digit_0',37)\n",
    "data[\"character\"] = data[\"character\"].replace('digit_1',38)\n",
    "data[\"character\"] = data[\"character\"].replace('digit_2',39)\n",
    "data[\"character\"] = data[\"character\"].replace('digit_3',40)\n",
    "data[\"character\"] = data[\"character\"].replace('digit_4',41)\n",
    "data[\"character\"] = data[\"character\"].replace('digit_5',42)\n",
    "data[\"character\"] = data[\"character\"].replace('digit_6',43)\n",
    "data[\"character\"] = data[\"character\"].replace('digit_7',44)\n",
    "data[\"character\"] = data[\"character\"].replace('digit_8',45)\n",
    "data[\"character\"] = data[\"character\"].replace('digit_9',46)\n",
    "\n",
    "print(data['character'].unique())\n",
    "\n",
    "\n",
    "dataset = np.array(data)\n",
    "np.random.shuffle(dataset)\n",
    "X = dataset[:, 0:1024]\n",
    "Y = dataset[:,1024:1025]\n",
    "print(X.shape)\n",
    "print(Y.shape)\n",
    "print(Y)\n",
    "\n",
    "\n",
    "X_train = X[0:90000]\n",
    "X_train = X_train/255.\n",
    "X_test = X[90000:92001,:]\n",
    "X_test = X_test/255.\n",
    "\n",
    "Y_train = Y[0:90000,:]\n",
    "Y_train = Y_train.T\n",
    "Y_test = Y[90000:92000,:]\n",
    "Y_test =  Y_test.T\n",
    "\n"
   ]
  },
  {
   "cell_type": "code",
   "execution_count": 95,
   "metadata": {},
   "outputs": [
    {
     "name": "stdout",
     "output_type": "stream",
     "text": [
      "training examples : 90000\n",
      "test examples : 2000\n",
      "X_train shape (90000, 1024)\n",
      "X_test shape (2000, 1024)\n",
      "Y_train shape (1, 90000)\n",
      "Y_test shape (1, 2000)\n",
      "[ 1  2  3  4  5  6  7  8  9 10 11 12 13 14 15 16 17 18 19 20 21 22 23 24\n",
      " 25 26 27 28 29 30 31 32 33 34 35 36 37 38 39 40 41 42 43 44 45 46]\n"
     ]
    }
   ],
   "source": [
    "print('training examples :', X_train.shape[0])\n",
    "print('test examples :', X_test.shape[0])\n",
    "print('X_train shape',X_train.shape)\n",
    "print('X_test shape',X_test.shape)\n",
    "print('Y_train shape',Y_train.shape)\n",
    "print('Y_test shape',Y_test.shape)\n",
    "print(data['character'].unique())\n"
   ]
  },
  {
   "cell_type": "code",
   "execution_count": 99,
   "metadata": {},
   "outputs": [
    {
     "name": "stdout",
     "output_type": "stream",
     "text": [
      "X_train shape:(90000, 32, 32, 1)\n",
      "Y_train shape:(90000, 47)\n"
     ]
    }
   ],
   "source": [
    "image_x = 32\n",
    "image_y = 32   #size of image 32*32\n",
    "\n",
    "\n",
    "train_y = np_utils.to_categorical(Y_train)\n",
    "test_y = np_utils.to_categorical(Y_test)\n",
    "\n",
    "train_y = train_y.reshape(train_y.shape[1],train_y.shape[2])\n",
    "test_y = test_y.reshape(test_y.shape[1],test_y.shape[2])\n",
    "\n",
    "X_train = X_train.reshape(X_train.shape[0],image_x,image_y,1)\n",
    "X_test = X_test.reshape(X_test.shape[0],image_x,image_y,1)\n",
    "\n",
    "\n",
    "print('X_train shape:'+str(X_train.shape))\n",
    "print('Y_train shape:'+str(train_y.shape))"
   ]
  },
  {
   "cell_type": "code",
   "execution_count": 102,
   "metadata": {},
   "outputs": [],
   "source": [
    "#building a model\n",
    "\n",
    "def keras_model(image_x,image_y):\n",
    "    num_of_classes = 47\n",
    "    model = Sequential()\n",
    "    model.add(Conv2D(filters=32, kernel_size=(5,5), input_shape=(image_x, image_y, 1), activation='relu'))\n",
    "    model.add(MaxPooling2D(pool_size=(2,2), strides=(2,2), padding ='same'))\n",
    "    model.add(Conv2D(64, (5,5), activation ='relu'))\n",
    "    model.add(MaxPooling2D(pool_size=(5,5), strides=(5,5), padding='same'))\n",
    "    model.add(Flatten())  #matrix to vector\n",
    "    model.add(Dense(num_of_classes, activation = 'softmax')) #last layer\n",
    "    model.compile(loss='categorical_crossentropy', optimizer ='adam', metrics = ['accuracy'])\n",
    "    filepath = \"devanagri.h5\"\n",
    "    checkpoint1 = ModelCheckpoint(filepath, monitor='val_acc', verbose=1, save_best_only = True, mode='max')\n",
    "    callbacks_list = [checkpoint1]\n",
    "    return model,callbacks_list\n",
    "    \n",
    "    \n"
   ]
  },
  {
   "cell_type": "code",
   "execution_count": 108,
   "metadata": {},
   "outputs": [
    {
     "name": "stdout",
     "output_type": "stream",
     "text": [
      "Train on 90000 samples, validate on 2000 samples\n",
      "Epoch 1/8\n",
      "90000/90000 [==============================] - 127s 1ms/step - loss: 0.6853 - acc: 0.8101 - val_loss: 0.2601 - val_acc: 0.9260\n",
      "\n",
      "Epoch 00001: val_acc improved from -inf to 0.92600, saving model to devanagri.h5\n",
      "Epoch 2/8\n",
      "90000/90000 [==============================] - 119s 1ms/step - loss: 0.1892 - acc: 0.9432 - val_loss: 0.1680 - val_acc: 0.9465\n",
      "\n",
      "Epoch 00002: val_acc improved from 0.92600 to 0.94650, saving model to devanagri.h5\n",
      "Epoch 3/8\n",
      "90000/90000 [==============================] - 122s 1ms/step - loss: 0.1203 - acc: 0.9641 - val_loss: 0.1743 - val_acc: 0.9495\n",
      "\n",
      "Epoch 00003: val_acc improved from 0.94650 to 0.94950, saving model to devanagri.h5\n",
      "Epoch 4/8\n",
      "90000/90000 [==============================] - 126s 1ms/step - loss: 0.0890 - acc: 0.9728 - val_loss: 0.1393 - val_acc: 0.9575\n",
      "\n",
      "Epoch 00004: val_acc improved from 0.94950 to 0.95750, saving model to devanagri.h5\n",
      "Epoch 5/8\n",
      "90000/90000 [==============================] - 122s 1ms/step - loss: 0.0720 - acc: 0.9777 - val_loss: 0.1005 - val_acc: 0.9730\n",
      "\n",
      "Epoch 00005: val_acc improved from 0.95750 to 0.97300, saving model to devanagri.h5\n",
      "Epoch 6/8\n",
      "90000/90000 [==============================] - 117s 1ms/step - loss: 0.0553 - acc: 0.9827 - val_loss: 0.0970 - val_acc: 0.9750\n",
      "\n",
      "Epoch 00006: val_acc improved from 0.97300 to 0.97500, saving model to devanagri.h5\n",
      "Epoch 7/8\n",
      "90000/90000 [==============================] - 116s 1ms/step - loss: 0.0471 - acc: 0.9849 - val_loss: 0.0952 - val_acc: 0.9750\n",
      "\n",
      "Epoch 00007: val_acc did not improve from 0.97500\n",
      "Epoch 8/8\n",
      "90000/90000 [==============================] - 115s 1ms/step - loss: 0.0392 - acc: 0.9872 - val_loss: 0.0918 - val_acc: 0.9760\n",
      "\n",
      "Epoch 00008: val_acc improved from 0.97500 to 0.97600, saving model to devanagri.h5\n",
      "CNN error :2.40%\n",
      "_________________________________________________________________\n",
      "Layer (type)                 Output Shape              Param #   \n",
      "=================================================================\n",
      "conv2d_5 (Conv2D)            (None, 28, 28, 32)        832       \n",
      "_________________________________________________________________\n",
      "max_pooling2d_4 (MaxPooling2 (None, 14, 14, 32)        0         \n",
      "_________________________________________________________________\n",
      "conv2d_6 (Conv2D)            (None, 10, 10, 64)        51264     \n",
      "_________________________________________________________________\n",
      "max_pooling2d_5 (MaxPooling2 (None, 2, 2, 64)          0         \n",
      "_________________________________________________________________\n",
      "flatten_2 (Flatten)          (None, 256)               0         \n",
      "_________________________________________________________________\n",
      "dense_2 (Dense)              (None, 47)                12079     \n",
      "=================================================================\n",
      "Total params: 64,175\n",
      "Trainable params: 64,175\n",
      "Non-trainable params: 0\n",
      "_________________________________________________________________\n"
     ]
    }
   ],
   "source": [
    "model, callbacks_list = keras_model(image_x,image_y)\n",
    "model.fit(X_train,train_y, validation_data = (X_test,test_y), epochs = 8 , batch_size = 64, callbacks = callbacks_list)\n",
    "scores = model.evaluate(X_test,test_y, verbose = 0)\n",
    "print(\"CNN error :%.2f%%\" %(100-scores[1]*100))\n",
    "print_summary(model)   "
   ]
  },
  {
   "cell_type": "code",
   "execution_count": 109,
   "metadata": {},
   "outputs": [],
   "source": [
    "model.save('devanagri.h5')"
   ]
  },
  {
   "cell_type": "code",
   "execution_count": null,
   "metadata": {},
   "outputs": [],
   "source": []
  }
 ],
 "metadata": {
  "kernelspec": {
   "display_name": "Python 3",
   "language": "python",
   "name": "python3"
  },
  "language_info": {
   "codemirror_mode": {
    "name": "ipython",
    "version": 3
   },
   "file_extension": ".py",
   "mimetype": "text/x-python",
   "name": "python",
   "nbconvert_exporter": "python",
   "pygments_lexer": "ipython3",
   "version": "3.7.4"
  }
 },
 "nbformat": 4,
 "nbformat_minor": 2
}
